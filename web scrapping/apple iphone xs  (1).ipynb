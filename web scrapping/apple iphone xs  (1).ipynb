{
 "cells": [
  {
   "cell_type": "markdown",
   "metadata": {
    "id": "B_f23HJTX7bW"
   },
   "source": [
    "\n",
    "**Import the required Modules:**\n"
   ]
  },
  {
   "cell_type": "code",
   "execution_count": 8,
   "metadata": {
    "id": "mB263KsHXix7"
   },
   "outputs": [],
   "source": [
    "import requests\n",
    "import time\n",
    "from bs4 import BeautifulSoup\n",
    "import pandas as pd"
   ]
  },
  {
   "cell_type": "markdown",
   "metadata": {
    "id": "6m34Kj6eYLYt"
   },
   "source": [
    "**See the structure of URL:**"
   ]
  },
  {
   "cell_type": "code",
   "execution_count": 9,
   "metadata": {
    "id": "SsnFH4WVYufs"
   },
   "outputs": [],
   "source": [
    "#https://www.flipkart.com/search?q=macbook&sid=6bo%2Cb5g&as=on&as-show=on&otracker=AS_QueryStore_OrganicAutoSuggest_1_3_na_na_na&otracker1=AS_QueryStore_OrganicAutoSuggest_1_3_na_na_na&as-pos=1&as-type=RECENT&suggestionId=macbook%7CLaptops&requestId=725f153c-36bb-478c-8f10-e54c60187a13&as-backfill=on&page=1\n",
    "#https://www.flipkart.com/search?q=macbook&sid=6bo%2Cb5g&as=on&as-show=on&otracker=AS_QueryStore_OrganicAutoSuggest_1_3_na_na_na&otracker1=AS_QueryStore_OrganicAutoSuggest_1_3_na_na_na&as-pos=1&as-type=RECENT&suggestionId=macbook%7CLaptops&requestId=725f153c-36bb-478c-8f10-e54c60187a13&as-backfill=on&page=2"
   ]
  },
  {
   "cell_type": "code",
   "execution_count": 10,
   "metadata": {
    "id": "9J3TVdAlY1vB"
   },
   "outputs": [],
   "source": [
    "base_url ='https://www.flipkart.com/search?q=apple+xs+max&sid=tyy%2C4io&as=on&as-show=on&otracker=AS_QueryStore_OrganicAutoSuggest_2_8_na_na_ps&otracker1=AS_QueryStore_OrganicAutoSuggest_2_8_na_na_ps&as-pos=2&as-type=RECENT&suggestionId=apple+xs+max%7CMobiles&requestId=2e693e1b-25ab-414d-8630-1777f202ecaf&as-searchtext=apple%20xs'"
   ]
  },
  {
   "cell_type": "markdown",
   "metadata": {
    "id": "Y56yOaiXY8Fe"
   },
   "source": [
    "**Create List for store the Data**"
   ]
  },
  {
   "cell_type": "code",
   "execution_count": 11,
   "metadata": {
    "id": "x7B4cH-sZCHe"
   },
   "outputs": [],
   "source": [
    "pd_name = []\n",
    "price =[]\n",
    "ratings = []\n",
    "warranty = []\n",
    "ratingsno = []\n",
    "reviewsno = []\n",
    "features = []\n",
    "for i in range(1,3):\n",
    "  time.sleep(3)\n",
    "  req = requests.get(base_url+str(i))\n",
    "  soup = BeautifulSoup(req.text,'html')\n",
    "\n",
    "  #product name\n",
    "  pdt_name = soup.findAll('div',attrs={'class':'_4rR01T'})\n",
    "  [pd_name.append(i.text) for i in pdt_name]\n",
    "\n",
    "  #price\n",
    "  p = soup.findAll('div',attrs={'class':'_30jeq3 _1_WHN1'})\n",
    "  [price.append(i.text) for i in p]\n",
    "\n",
    "  #ratings\n",
    "  r = soup.findAll('div',attrs={'class':'gUuXy-'})\n",
    "  [ratings.append(i.span.div.text) for i in r]\n",
    "\n",
    "  #warranty\n",
    "  wl = soup.findAll('ul',attrs={'class':'_1xgFaf'})\n",
    "  w = [i.findAll('li')[-1] for i in wl]\n",
    "  [warranty.append(i.text) for i in w]\n",
    "\n",
    "  #number of ratings and reviews\n",
    "  a = soup.findAll('span',attrs={'class':'_2_R_DZ'})\n",
    "  for i in a:\n",
    "    a = i.text.split('&')\n",
    "    ratingsno.append(a[0].split(\" \")[0])\n",
    "    reviewsno.append(a[1].split(\" \")[0])\n",
    "\n",
    "  #features\n",
    "  prop = soup.findAll('ul',attrs={'class':'_1xgFaf'})\n",
    "  for i in prop:\n",
    "    a = i.findAll('li')[0:-2]\n",
    "    b =[i.text for i in a]\n",
    "    features.append(','.join(b))"
   ]
  },
  {
   "cell_type": "code",
   "execution_count": 12,
   "metadata": {
    "colab": {
     "base_uri": "https://localhost:8080/"
    },
    "id": "cPDwbKXwZTnq",
    "outputId": "00808025-fae5-47e4-a120-7cd68f1c62ff"
   },
   "outputs": [
    {
     "name": "stdout",
     "output_type": "stream",
     "text": [
      "pd_name=  15\n",
      "price =  15\n",
      "ratings =  15\n",
      "warranty =  15\n",
      "ratingsno = 15\n",
      "reviewsno =  15\n",
      "features =  15\n"
     ]
    }
   ],
   "source": [
    "print('pd_name= ',len(pd_name))\n",
    "print('price = ',len(price))\n",
    "print('ratings = ',len(ratings))\n",
    "print('warranty = ',len(warranty))\n",
    "print('ratingsno =',len(ratingsno))\n",
    "print('reviewsno = ',len(reviewsno))\n",
    "print('features = ',len(features))\n"
   ]
  },
  {
   "cell_type": "code",
   "execution_count": 13,
   "metadata": {
    "colab": {
     "base_uri": "https://localhost:8080/",
     "height": 1000
    },
    "id": "oP-qvDd3ZWdJ",
    "outputId": "686e3996-669a-47ee-9c20-3c2489c2ce8f"
   },
   "outputs": [
    {
     "data": {
      "text/html": [
       "<div>\n",
       "<style scoped>\n",
       "    .dataframe tbody tr th:only-of-type {\n",
       "        vertical-align: middle;\n",
       "    }\n",
       "\n",
       "    .dataframe tbody tr th {\n",
       "        vertical-align: top;\n",
       "    }\n",
       "\n",
       "    .dataframe thead th {\n",
       "        text-align: right;\n",
       "    }\n",
       "</style>\n",
       "<table border=\"1\" class=\"dataframe\">\n",
       "  <thead>\n",
       "    <tr style=\"text-align: right;\">\n",
       "      <th></th>\n",
       "      <th>Product</th>\n",
       "      <th>Price</th>\n",
       "      <th>Ratings</th>\n",
       "      <th>Warranty</th>\n",
       "      <th>No of Ratings</th>\n",
       "      <th>No of Reviews</th>\n",
       "      <th>Features</th>\n",
       "    </tr>\n",
       "  </thead>\n",
       "  <tbody>\n",
       "    <tr>\n",
       "      <th>0</th>\n",
       "      <td>APPLE iPhone XS Max (Space Grey, 256 GB)</td>\n",
       "      <td>₹1,24,900</td>\n",
       "      <td>4.6</td>\n",
       "      <td>1 Year Limited Warranty for Products and Acces...</td>\n",
       "      <td>1,454</td>\n",
       "      <td>148</td>\n",
       "      <td>256 GB ROM,16.51 cm (6.5 inch) Super Retina HD...</td>\n",
       "    </tr>\n",
       "    <tr>\n",
       "      <th>1</th>\n",
       "      <td>APPLE iPhone XS Max (Silver, 512 GB)</td>\n",
       "      <td>₹1,44,900</td>\n",
       "      <td>4.6</td>\n",
       "      <td>1 Year Limited Warranty for Products and Acces...</td>\n",
       "      <td>1,454</td>\n",
       "      <td>148</td>\n",
       "      <td>512 GB ROM,16.51 cm (6.5 inch) Super Retina HD...</td>\n",
       "    </tr>\n",
       "    <tr>\n",
       "      <th>2</th>\n",
       "      <td>APPLE iPhone XS Max (Space Grey, 512 GB)</td>\n",
       "      <td>₹1,44,900</td>\n",
       "      <td>4.6</td>\n",
       "      <td>1 Year Limited Warranty for Products and Acces...</td>\n",
       "      <td>1,454</td>\n",
       "      <td>148</td>\n",
       "      <td>512 GB ROM,16.51 cm (6.5 inch) Super Retina HD...</td>\n",
       "    </tr>\n",
       "    <tr>\n",
       "      <th>3</th>\n",
       "      <td>APPLE iPhone XS Max (Gold, 64 GB)</td>\n",
       "      <td>₹1,09,900</td>\n",
       "      <td>4.6</td>\n",
       "      <td>1 Year Limited Warranty for Products and Acces...</td>\n",
       "      <td>1,454</td>\n",
       "      <td>148</td>\n",
       "      <td>64 GB ROM,16.51 cm (6.5 inch) Super Retina HD ...</td>\n",
       "    </tr>\n",
       "    <tr>\n",
       "      <th>4</th>\n",
       "      <td>APPLE iPhone XS Max (Gold, 256 GB)</td>\n",
       "      <td>₹1,24,900</td>\n",
       "      <td>4.6</td>\n",
       "      <td>1 Year Limited Warranty for Products and Acces...</td>\n",
       "      <td>1,454</td>\n",
       "      <td>148</td>\n",
       "      <td>256 GB ROM,16.51 cm (6.5 inch) Super Retina HD...</td>\n",
       "    </tr>\n",
       "    <tr>\n",
       "      <th>5</th>\n",
       "      <td>APPLE iPhone XS Max (Gold, 512 GB)</td>\n",
       "      <td>₹1,44,900</td>\n",
       "      <td>4.6</td>\n",
       "      <td>1 Year Limited Warranty for Products and Acces...</td>\n",
       "      <td>1,454</td>\n",
       "      <td>148</td>\n",
       "      <td>512 GB ROM,16.51 cm (6.5 inch) Super Retina HD...</td>\n",
       "    </tr>\n",
       "    <tr>\n",
       "      <th>6</th>\n",
       "      <td>APPLE iPhone XS Max (Silver, 256 GB)</td>\n",
       "      <td>₹1,24,900</td>\n",
       "      <td>4.6</td>\n",
       "      <td>1 Year Limited Warranty for Products and Acces...</td>\n",
       "      <td>1,454</td>\n",
       "      <td>148</td>\n",
       "      <td>256 GB ROM,16.51 cm (6.5 inch) Super Retina HD...</td>\n",
       "    </tr>\n",
       "    <tr>\n",
       "      <th>7</th>\n",
       "      <td>APPLE iPhone XS Max (Space Grey, 64 GB)</td>\n",
       "      <td>₹1,09,900</td>\n",
       "      <td>4.6</td>\n",
       "      <td>1 Year Limited Warranty for Products and Acces...</td>\n",
       "      <td>1,454</td>\n",
       "      <td>148</td>\n",
       "      <td>64 GB ROM,16.51 cm (6.5 inch) Super Retina HD ...</td>\n",
       "    </tr>\n",
       "    <tr>\n",
       "      <th>8</th>\n",
       "      <td>APPLE iPhone XS Max (Silver, 64 GB)</td>\n",
       "      <td>₹1,09,900</td>\n",
       "      <td>4.6</td>\n",
       "      <td>1 Year Limited Warranty for Products and Acces...</td>\n",
       "      <td>1,454</td>\n",
       "      <td>148</td>\n",
       "      <td>64 GB ROM,16.51 cm (6.5 inch) Super Retina HD ...</td>\n",
       "    </tr>\n",
       "    <tr>\n",
       "      <th>9</th>\n",
       "      <td>APPLE iPhone XS Max (Space Grey, 256 GB)</td>\n",
       "      <td>₹1,24,900</td>\n",
       "      <td>4.6</td>\n",
       "      <td>1 Year Limited Warranty for Products and Acces...</td>\n",
       "      <td>1,454</td>\n",
       "      <td>148</td>\n",
       "      <td>256 GB ROM,16.51 cm (6.5 inch) Super Retina HD...</td>\n",
       "    </tr>\n",
       "    <tr>\n",
       "      <th>10</th>\n",
       "      <td>APPLE iPhone XS Max (Space Grey, 512 GB)</td>\n",
       "      <td>₹1,44,900</td>\n",
       "      <td>4.6</td>\n",
       "      <td>1 Year Limited Warranty for Products and Acces...</td>\n",
       "      <td>1,454</td>\n",
       "      <td>148</td>\n",
       "      <td>512 GB ROM,16.51 cm (6.5 inch) Super Retina HD...</td>\n",
       "    </tr>\n",
       "    <tr>\n",
       "      <th>11</th>\n",
       "      <td>APPLE iPhone XS Max (Gold, 64 GB)</td>\n",
       "      <td>₹1,09,900</td>\n",
       "      <td>4.6</td>\n",
       "      <td>1 Year Limited Warranty for Products and Acces...</td>\n",
       "      <td>1,454</td>\n",
       "      <td>148</td>\n",
       "      <td>64 GB ROM,16.51 cm (6.5 inch) Super Retina HD ...</td>\n",
       "    </tr>\n",
       "    <tr>\n",
       "      <th>12</th>\n",
       "      <td>APPLE iPhone XS Max (Gold, 256 GB)</td>\n",
       "      <td>₹1,24,900</td>\n",
       "      <td>4.6</td>\n",
       "      <td>1 Year Limited Warranty for Products and Acces...</td>\n",
       "      <td>1,454</td>\n",
       "      <td>148</td>\n",
       "      <td>256 GB ROM,16.51 cm (6.5 inch) Super Retina HD...</td>\n",
       "    </tr>\n",
       "    <tr>\n",
       "      <th>13</th>\n",
       "      <td>APPLE iPhone XS Max (Silver, 256 GB)</td>\n",
       "      <td>₹1,24,900</td>\n",
       "      <td>4.6</td>\n",
       "      <td>1 Year Limited Warranty for Products and Acces...</td>\n",
       "      <td>1,454</td>\n",
       "      <td>148</td>\n",
       "      <td>256 GB ROM,16.51 cm (6.5 inch) Super Retina HD...</td>\n",
       "    </tr>\n",
       "    <tr>\n",
       "      <th>14</th>\n",
       "      <td>APPLE iPhone XS Max (Silver, 64 GB)</td>\n",
       "      <td>₹1,09,900</td>\n",
       "      <td>4.6</td>\n",
       "      <td>1 Year Limited Warranty for Products and Acces...</td>\n",
       "      <td>1,454</td>\n",
       "      <td>148</td>\n",
       "      <td>64 GB ROM,16.51 cm (6.5 inch) Super Retina HD ...</td>\n",
       "    </tr>\n",
       "  </tbody>\n",
       "</table>\n",
       "</div>"
      ],
      "text/plain": [
       "                                     Product      Price Ratings  \\\n",
       "0   APPLE iPhone XS Max (Space Grey, 256 GB)  ₹1,24,900     4.6   \n",
       "1       APPLE iPhone XS Max (Silver, 512 GB)  ₹1,44,900     4.6   \n",
       "2   APPLE iPhone XS Max (Space Grey, 512 GB)  ₹1,44,900     4.6   \n",
       "3          APPLE iPhone XS Max (Gold, 64 GB)  ₹1,09,900     4.6   \n",
       "4         APPLE iPhone XS Max (Gold, 256 GB)  ₹1,24,900     4.6   \n",
       "5         APPLE iPhone XS Max (Gold, 512 GB)  ₹1,44,900     4.6   \n",
       "6       APPLE iPhone XS Max (Silver, 256 GB)  ₹1,24,900     4.6   \n",
       "7    APPLE iPhone XS Max (Space Grey, 64 GB)  ₹1,09,900     4.6   \n",
       "8        APPLE iPhone XS Max (Silver, 64 GB)  ₹1,09,900     4.6   \n",
       "9   APPLE iPhone XS Max (Space Grey, 256 GB)  ₹1,24,900     4.6   \n",
       "10  APPLE iPhone XS Max (Space Grey, 512 GB)  ₹1,44,900     4.6   \n",
       "11         APPLE iPhone XS Max (Gold, 64 GB)  ₹1,09,900     4.6   \n",
       "12        APPLE iPhone XS Max (Gold, 256 GB)  ₹1,24,900     4.6   \n",
       "13      APPLE iPhone XS Max (Silver, 256 GB)  ₹1,24,900     4.6   \n",
       "14       APPLE iPhone XS Max (Silver, 64 GB)  ₹1,09,900     4.6   \n",
       "\n",
       "                                             Warranty No of Ratings  \\\n",
       "0   1 Year Limited Warranty for Products and Acces...         1,454   \n",
       "1   1 Year Limited Warranty for Products and Acces...         1,454   \n",
       "2   1 Year Limited Warranty for Products and Acces...         1,454   \n",
       "3   1 Year Limited Warranty for Products and Acces...         1,454   \n",
       "4   1 Year Limited Warranty for Products and Acces...         1,454   \n",
       "5   1 Year Limited Warranty for Products and Acces...         1,454   \n",
       "6   1 Year Limited Warranty for Products and Acces...         1,454   \n",
       "7   1 Year Limited Warranty for Products and Acces...         1,454   \n",
       "8   1 Year Limited Warranty for Products and Acces...         1,454   \n",
       "9   1 Year Limited Warranty for Products and Acces...         1,454   \n",
       "10  1 Year Limited Warranty for Products and Acces...         1,454   \n",
       "11  1 Year Limited Warranty for Products and Acces...         1,454   \n",
       "12  1 Year Limited Warranty for Products and Acces...         1,454   \n",
       "13  1 Year Limited Warranty for Products and Acces...         1,454   \n",
       "14  1 Year Limited Warranty for Products and Acces...         1,454   \n",
       "\n",
       "   No of Reviews                                           Features  \n",
       "0            148  256 GB ROM,16.51 cm (6.5 inch) Super Retina HD...  \n",
       "1            148  512 GB ROM,16.51 cm (6.5 inch) Super Retina HD...  \n",
       "2            148  512 GB ROM,16.51 cm (6.5 inch) Super Retina HD...  \n",
       "3            148  64 GB ROM,16.51 cm (6.5 inch) Super Retina HD ...  \n",
       "4            148  256 GB ROM,16.51 cm (6.5 inch) Super Retina HD...  \n",
       "5            148  512 GB ROM,16.51 cm (6.5 inch) Super Retina HD...  \n",
       "6            148  256 GB ROM,16.51 cm (6.5 inch) Super Retina HD...  \n",
       "7            148  64 GB ROM,16.51 cm (6.5 inch) Super Retina HD ...  \n",
       "8            148  64 GB ROM,16.51 cm (6.5 inch) Super Retina HD ...  \n",
       "9            148  256 GB ROM,16.51 cm (6.5 inch) Super Retina HD...  \n",
       "10           148  512 GB ROM,16.51 cm (6.5 inch) Super Retina HD...  \n",
       "11           148  64 GB ROM,16.51 cm (6.5 inch) Super Retina HD ...  \n",
       "12           148  256 GB ROM,16.51 cm (6.5 inch) Super Retina HD...  \n",
       "13           148  256 GB ROM,16.51 cm (6.5 inch) Super Retina HD...  \n",
       "14           148  64 GB ROM,16.51 cm (6.5 inch) Super Retina HD ...  "
      ]
     },
     "execution_count": 13,
     "metadata": {},
     "output_type": "execute_result"
    }
   ],
   "source": [
    "data = pd.DataFrame({'Product':pd_name,\n",
    "                     'Price':price,\n",
    "                     'Ratings':ratings,\n",
    "                     'Warranty':warranty,\n",
    "                     'No of Ratings':ratingsno,\n",
    "                     'No of Reviews':reviewsno,\n",
    "                     'Features':features})\n",
    "data"
   ]
  },
  {
   "cell_type": "code",
   "execution_count": 14,
   "metadata": {
    "id": "PKGZRCleZqbA"
   },
   "outputs": [
    {
     "ename": "FileNotFoundError",
     "evalue": "[Errno 2] No such file or directory: 'C:sabari bca 2 nd year /WEB SCRAPPING FLIPKART PYTHON PROGRAM.csv'",
     "output_type": "error",
     "traceback": [
      "\u001b[1;31m---------------------------------------------------------------------------\u001b[0m",
      "\u001b[1;31mFileNotFoundError\u001b[0m                         Traceback (most recent call last)",
      "\u001b[1;32m~\\AppData\\Local\\Temp/ipykernel_16396/1587881111.py\u001b[0m in \u001b[0;36m<module>\u001b[1;34m\u001b[0m\n\u001b[1;32m----> 1\u001b[1;33m \u001b[0mdata\u001b[0m\u001b[1;33m.\u001b[0m\u001b[0mto_csv\u001b[0m\u001b[1;33m(\u001b[0m\u001b[1;34m'C:sabari bca 2 nd year /WEB SCRAPPING FLIPKART PYTHON PROGRAM.csv'\u001b[0m\u001b[1;33m)\u001b[0m\u001b[1;33m\u001b[0m\u001b[1;33m\u001b[0m\u001b[0m\n\u001b[0m",
      "\u001b[1;32m~\\anaconda3\\lib\\site-packages\\pandas\\core\\generic.py\u001b[0m in \u001b[0;36mto_csv\u001b[1;34m(self, path_or_buf, sep, na_rep, float_format, columns, header, index, index_label, mode, encoding, compression, quoting, quotechar, line_terminator, chunksize, date_format, doublequote, escapechar, decimal, errors, storage_options)\u001b[0m\n\u001b[0;32m   3464\u001b[0m         )\n\u001b[0;32m   3465\u001b[0m \u001b[1;33m\u001b[0m\u001b[0m\n\u001b[1;32m-> 3466\u001b[1;33m         return DataFrameRenderer(formatter).to_csv(\n\u001b[0m\u001b[0;32m   3467\u001b[0m             \u001b[0mpath_or_buf\u001b[0m\u001b[1;33m,\u001b[0m\u001b[1;33m\u001b[0m\u001b[1;33m\u001b[0m\u001b[0m\n\u001b[0;32m   3468\u001b[0m             \u001b[0mline_terminator\u001b[0m\u001b[1;33m=\u001b[0m\u001b[0mline_terminator\u001b[0m\u001b[1;33m,\u001b[0m\u001b[1;33m\u001b[0m\u001b[1;33m\u001b[0m\u001b[0m\n",
      "\u001b[1;32m~\\anaconda3\\lib\\site-packages\\pandas\\io\\formats\\format.py\u001b[0m in \u001b[0;36mto_csv\u001b[1;34m(self, path_or_buf, encoding, sep, columns, index_label, mode, compression, quoting, quotechar, line_terminator, chunksize, date_format, doublequote, escapechar, errors, storage_options)\u001b[0m\n\u001b[0;32m   1103\u001b[0m             \u001b[0mformatter\u001b[0m\u001b[1;33m=\u001b[0m\u001b[0mself\u001b[0m\u001b[1;33m.\u001b[0m\u001b[0mfmt\u001b[0m\u001b[1;33m,\u001b[0m\u001b[1;33m\u001b[0m\u001b[1;33m\u001b[0m\u001b[0m\n\u001b[0;32m   1104\u001b[0m         )\n\u001b[1;32m-> 1105\u001b[1;33m         \u001b[0mcsv_formatter\u001b[0m\u001b[1;33m.\u001b[0m\u001b[0msave\u001b[0m\u001b[1;33m(\u001b[0m\u001b[1;33m)\u001b[0m\u001b[1;33m\u001b[0m\u001b[1;33m\u001b[0m\u001b[0m\n\u001b[0m\u001b[0;32m   1106\u001b[0m \u001b[1;33m\u001b[0m\u001b[0m\n\u001b[0;32m   1107\u001b[0m         \u001b[1;32mif\u001b[0m \u001b[0mcreated_buffer\u001b[0m\u001b[1;33m:\u001b[0m\u001b[1;33m\u001b[0m\u001b[1;33m\u001b[0m\u001b[0m\n",
      "\u001b[1;32m~\\anaconda3\\lib\\site-packages\\pandas\\io\\formats\\csvs.py\u001b[0m in \u001b[0;36msave\u001b[1;34m(self)\u001b[0m\n\u001b[0;32m    235\u001b[0m         \"\"\"\n\u001b[0;32m    236\u001b[0m         \u001b[1;31m# apply compression and byte/text conversion\u001b[0m\u001b[1;33m\u001b[0m\u001b[1;33m\u001b[0m\u001b[0m\n\u001b[1;32m--> 237\u001b[1;33m         with get_handle(\n\u001b[0m\u001b[0;32m    238\u001b[0m             \u001b[0mself\u001b[0m\u001b[1;33m.\u001b[0m\u001b[0mfilepath_or_buffer\u001b[0m\u001b[1;33m,\u001b[0m\u001b[1;33m\u001b[0m\u001b[1;33m\u001b[0m\u001b[0m\n\u001b[0;32m    239\u001b[0m             \u001b[0mself\u001b[0m\u001b[1;33m.\u001b[0m\u001b[0mmode\u001b[0m\u001b[1;33m,\u001b[0m\u001b[1;33m\u001b[0m\u001b[1;33m\u001b[0m\u001b[0m\n",
      "\u001b[1;32m~\\anaconda3\\lib\\site-packages\\pandas\\io\\common.py\u001b[0m in \u001b[0;36mget_handle\u001b[1;34m(path_or_buf, mode, encoding, compression, memory_map, is_text, errors, storage_options)\u001b[0m\n\u001b[0;32m    700\u001b[0m         \u001b[1;32mif\u001b[0m \u001b[0mioargs\u001b[0m\u001b[1;33m.\u001b[0m\u001b[0mencoding\u001b[0m \u001b[1;32mand\u001b[0m \u001b[1;34m\"b\"\u001b[0m \u001b[1;32mnot\u001b[0m \u001b[1;32min\u001b[0m \u001b[0mioargs\u001b[0m\u001b[1;33m.\u001b[0m\u001b[0mmode\u001b[0m\u001b[1;33m:\u001b[0m\u001b[1;33m\u001b[0m\u001b[1;33m\u001b[0m\u001b[0m\n\u001b[0;32m    701\u001b[0m             \u001b[1;31m# Encoding\u001b[0m\u001b[1;33m\u001b[0m\u001b[1;33m\u001b[0m\u001b[0m\n\u001b[1;32m--> 702\u001b[1;33m             handle = open(\n\u001b[0m\u001b[0;32m    703\u001b[0m                 \u001b[0mhandle\u001b[0m\u001b[1;33m,\u001b[0m\u001b[1;33m\u001b[0m\u001b[1;33m\u001b[0m\u001b[0m\n\u001b[0;32m    704\u001b[0m                 \u001b[0mioargs\u001b[0m\u001b[1;33m.\u001b[0m\u001b[0mmode\u001b[0m\u001b[1;33m,\u001b[0m\u001b[1;33m\u001b[0m\u001b[1;33m\u001b[0m\u001b[0m\n",
      "\u001b[1;31mFileNotFoundError\u001b[0m: [Errno 2] No such file or directory: 'C:sabari bca 2 nd year /WEB SCRAPPING FLIPKART PYTHON PROGRAM.csv'"
     ]
    }
   ],
   "source": [
    "data.to_csv('C:sabari bca 2 nd year /WEB SCRAPPING FLIPKART PYTHON PROGRAM.csv')"
   ]
  },
  {
   "cell_type": "code",
   "execution_count": null,
   "metadata": {},
   "outputs": [],
   "source": []
  },
  {
   "cell_type": "code",
   "execution_count": null,
   "metadata": {},
   "outputs": [],
   "source": []
  },
  {
   "cell_type": "code",
   "execution_count": null,
   "metadata": {},
   "outputs": [],
   "source": []
  },
  {
   "cell_type": "code",
   "execution_count": null,
   "metadata": {},
   "outputs": [],
   "source": []
  }
 ],
 "metadata": {
  "colab": {
   "name": "Flipkart MacBook web scrapping.ipynb",
   "provenance": []
  },
  "kernelspec": {
   "display_name": "Python 3 (ipykernel)",
   "language": "python",
   "name": "python3"
  },
  "language_info": {
   "codemirror_mode": {
    "name": "ipython",
    "version": 3
   },
   "file_extension": ".py",
   "mimetype": "text/x-python",
   "name": "python",
   "nbconvert_exporter": "python",
   "pygments_lexer": "ipython3",
   "version": "3.9.7"
  }
 },
 "nbformat": 4,
 "nbformat_minor": 1
}
